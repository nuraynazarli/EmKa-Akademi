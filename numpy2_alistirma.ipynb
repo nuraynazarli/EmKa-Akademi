{
  "nbformat": 4,
  "nbformat_minor": 0,
  "metadata": {
    "colab": {
      "provenance": [],
      "authorship_tag": "ABX9TyO4PbPuHGaef6MjHRVkJoCz",
      "include_colab_link": true
    },
    "kernelspec": {
      "name": "python3",
      "display_name": "Python 3"
    },
    "language_info": {
      "name": "python"
    }
  },
  "cells": [
    {
      "cell_type": "markdown",
      "metadata": {
        "id": "view-in-github",
        "colab_type": "text"
      },
      "source": [
        "<a href=\"https://colab.research.google.com/github/nuraynazarli/NumPy/blob/main/numpy2_alistirma.ipynb\" target=\"_parent\"><img src=\"https://colab.research.google.com/assets/colab-badge.svg\" alt=\"Open In Colab\"/></a>"
      ]
    },
    {
      "cell_type": "code",
      "execution_count": null,
      "metadata": {
        "id": "RJ3p3E9mVZnG"
      },
      "outputs": [],
      "source": [
        "import numpy as np"
      ]
    },
    {
      "cell_type": "code",
      "source": [
        "arr=np.arange(0,30)\n",
        "arr"
      ],
      "metadata": {
        "colab": {
          "base_uri": "https://localhost:8080/"
        },
        "id": "ZLkS0K4rvi6P",
        "outputId": "a65abea0-e608-42a8-882d-d52add60c37c"
      },
      "execution_count": null,
      "outputs": [
        {
          "output_type": "execute_result",
          "data": {
            "text/plain": [
              "array([ 0,  1,  2,  3,  4,  5,  6,  7,  8,  9, 10, 11, 12, 13, 14, 15, 16,\n",
              "       17, 18, 19, 20, 21, 22, 23, 24, 25, 26, 27, 28, 29])"
            ]
          },
          "metadata": {},
          "execution_count": 5
        }
      ]
    },
    {
      "cell_type": "code",
      "source": [
        "arr=arr.reshape(15,2)\n",
        "arr"
      ],
      "metadata": {
        "colab": {
          "base_uri": "https://localhost:8080/"
        },
        "id": "KpWN9JEGvgnX",
        "outputId": "4bb61a17-f4db-44a9-e5d1-1cb43bc2e09b"
      },
      "execution_count": null,
      "outputs": [
        {
          "output_type": "execute_result",
          "data": {
            "text/plain": [
              "array([[ 0,  1],\n",
              "       [ 2,  3],\n",
              "       [ 4,  5],\n",
              "       [ 6,  7],\n",
              "       [ 8,  9],\n",
              "       [10, 11],\n",
              "       [12, 13],\n",
              "       [14, 15],\n",
              "       [16, 17],\n",
              "       [18, 19],\n",
              "       [20, 21],\n",
              "       [22, 23],\n",
              "       [24, 25],\n",
              "       [26, 27],\n",
              "       [28, 29]])"
            ]
          },
          "metadata": {},
          "execution_count": 8
        }
      ]
    },
    {
      "cell_type": "code",
      "source": [
        "# 2\n",
        "arr=np.random.randint(0,200,60)\n",
        "arr"
      ],
      "metadata": {
        "colab": {
          "base_uri": "https://localhost:8080/"
        },
        "id": "sxWdObKMvyHC",
        "outputId": "5e1d6a2c-fe39-4976-96b4-abfb8eb0a039"
      },
      "execution_count": null,
      "outputs": [
        {
          "output_type": "execute_result",
          "data": {
            "text/plain": [
              "array([ 43,  76, 110, 180,   2,  41, 140, 192,  62, 162,  76, 172,  22,\n",
              "       158, 118,  15, 155, 199, 184, 169, 110,  57,   7,  51,  16,  64,\n",
              "       173,   9, 188, 104, 105, 174, 191,  40,  39, 174,  91, 182, 144,\n",
              "        23,  14,  42,  26, 133,  11, 186, 173, 134,  20, 127, 158, 191,\n",
              "       181, 198, 175, 197, 185, 108, 196, 190])"
            ]
          },
          "metadata": {},
          "execution_count": 10
        }
      ]
    },
    {
      "cell_type": "code",
      "source": [
        "arr=arr.reshape(2,3,-1)\n",
        "arr"
      ],
      "metadata": {
        "colab": {
          "base_uri": "https://localhost:8080/"
        },
        "id": "ZfVBHHqwwIEj",
        "outputId": "41d9774f-cc58-4a5e-9f70-4639bde15be0"
      },
      "execution_count": null,
      "outputs": [
        {
          "output_type": "execute_result",
          "data": {
            "text/plain": [
              "array([[[ 43,  76, 110, 180,   2,  41, 140, 192,  62, 162],\n",
              "        [ 76, 172,  22, 158, 118,  15, 155, 199, 184, 169],\n",
              "        [110,  57,   7,  51,  16,  64, 173,   9, 188, 104]],\n",
              "\n",
              "       [[105, 174, 191,  40,  39, 174,  91, 182, 144,  23],\n",
              "        [ 14,  42,  26, 133,  11, 186, 173, 134,  20, 127],\n",
              "        [158, 191, 181, 198, 175, 197, 185, 108, 196, 190]]])"
            ]
          },
          "metadata": {},
          "execution_count": 12
        }
      ]
    },
    {
      "cell_type": "code",
      "source": [
        "arr.ndim"
      ],
      "metadata": {
        "colab": {
          "base_uri": "https://localhost:8080/"
        },
        "id": "MhokzTXcwO0C",
        "outputId": "ec4a3b20-dea4-4ddd-e2b6-da8b9113a42d"
      },
      "execution_count": null,
      "outputs": [
        {
          "output_type": "execute_result",
          "data": {
            "text/plain": [
              "3"
            ]
          },
          "metadata": {},
          "execution_count": 13
        }
      ]
    },
    {
      "cell_type": "code",
      "source": [
        "arr.shape"
      ],
      "metadata": {
        "colab": {
          "base_uri": "https://localhost:8080/"
        },
        "id": "4H6WAv3bwTPc",
        "outputId": "19ff81bb-3753-4e4e-e322-b955840eb4f8"
      },
      "execution_count": null,
      "outputs": [
        {
          "output_type": "execute_result",
          "data": {
            "text/plain": [
              "(2, 3, 10)"
            ]
          },
          "metadata": {},
          "execution_count": 14
        }
      ]
    },
    {
      "cell_type": "code",
      "source": [
        "# 3\n",
        "arr=np.random.randint(0,100,(2,10))\n",
        "arr"
      ],
      "metadata": {
        "colab": {
          "base_uri": "https://localhost:8080/"
        },
        "id": "UowbI7-VwUZM",
        "outputId": "349fa4df-9e89-4cf4-ccba-e12e21f92f47"
      },
      "execution_count": null,
      "outputs": [
        {
          "output_type": "execute_result",
          "data": {
            "text/plain": [
              "array([[86, 29, 61, 54, 26, 55, 85, 26, 76, 67],\n",
              "       [ 3, 68, 12, 66, 41, 30, 16, 65, 95, 58]])"
            ]
          },
          "metadata": {},
          "execution_count": 18
        }
      ]
    },
    {
      "cell_type": "code",
      "source": [
        "arr1=arr.reshape(-1)\n",
        "arr1"
      ],
      "metadata": {
        "colab": {
          "base_uri": "https://localhost:8080/"
        },
        "id": "KGEXsWvbw-UM",
        "outputId": "20882af1-593a-42f0-cacf-a84b5be06150"
      },
      "execution_count": null,
      "outputs": [
        {
          "output_type": "execute_result",
          "data": {
            "text/plain": [
              "array([86, 29, 61, 54, 26, 55, 85, 26, 76, 67,  3, 68, 12, 66, 41, 30, 16,\n",
              "       65, 95, 58])"
            ]
          },
          "metadata": {},
          "execution_count": 20
        }
      ]
    },
    {
      "cell_type": "code",
      "source": [
        "arr1.ndim\n"
      ],
      "metadata": {
        "colab": {
          "base_uri": "https://localhost:8080/"
        },
        "id": "wXt0go_vxIxk",
        "outputId": "b327fbf6-f6ad-4d4a-9b4c-45ab77bbc952"
      },
      "execution_count": null,
      "outputs": [
        {
          "output_type": "execute_result",
          "data": {
            "text/plain": [
              "1"
            ]
          },
          "metadata": {},
          "execution_count": 21
        }
      ]
    },
    {
      "cell_type": "code",
      "source": [
        "arr1.shape"
      ],
      "metadata": {
        "colab": {
          "base_uri": "https://localhost:8080/"
        },
        "id": "EabOelC9xN8m",
        "outputId": "1e502ba4-d9fd-4f15-b4f9-6e619f71be44"
      },
      "execution_count": null,
      "outputs": [
        {
          "output_type": "execute_result",
          "data": {
            "text/plain": [
              "(20,)"
            ]
          },
          "metadata": {},
          "execution_count": 22
        }
      ]
    },
    {
      "cell_type": "code",
      "source": [
        "# 4\n",
        "arr2d=np.random.randint(0,10,(2,6))\n",
        "arr2d"
      ],
      "metadata": {
        "colab": {
          "base_uri": "https://localhost:8080/"
        },
        "id": "-WT5ZPT2xPyV",
        "outputId": "e37d36cb-9aa7-4d21-cddc-c959d2fda5d3"
      },
      "execution_count": null,
      "outputs": [
        {
          "output_type": "execute_result",
          "data": {
            "text/plain": [
              "array([[4, 0, 0, 9, 6, 3],\n",
              "       [7, 5, 9, 3, 8, 5]])"
            ]
          },
          "metadata": {},
          "execution_count": 24
        }
      ]
    },
    {
      "cell_type": "code",
      "source": [
        "for x in arr2d:\n",
        "  for y in x:\n",
        "    print(y)"
      ],
      "metadata": {
        "colab": {
          "base_uri": "https://localhost:8080/"
        },
        "id": "htie6vy0xfEM",
        "outputId": "2eb8f171-001d-434e-836f-f4af31232048"
      },
      "execution_count": null,
      "outputs": [
        {
          "output_type": "stream",
          "name": "stdout",
          "text": [
            "4\n",
            "0\n",
            "0\n",
            "9\n",
            "6\n",
            "3\n",
            "7\n",
            "5\n",
            "9\n",
            "3\n",
            "8\n",
            "5\n"
          ]
        }
      ]
    },
    {
      "cell_type": "code",
      "source": [
        "for x in np.nditer(arr2d):\n",
        "  print(x)"
      ],
      "metadata": {
        "colab": {
          "base_uri": "https://localhost:8080/"
        },
        "id": "wjeHuiGZxvhS",
        "outputId": "461b7a66-01df-456c-8e5a-a3a0c7f637ff"
      },
      "execution_count": null,
      "outputs": [
        {
          "output_type": "stream",
          "name": "stdout",
          "text": [
            "4\n",
            "0\n",
            "0\n",
            "9\n",
            "6\n",
            "3\n",
            "7\n",
            "5\n",
            "9\n",
            "3\n",
            "8\n",
            "5\n"
          ]
        }
      ]
    },
    {
      "cell_type": "code",
      "source": [
        "# 5\n",
        "arr1=np.arange(5,31,5)\n",
        "arr2=np.arange(1,7)"
      ],
      "metadata": {
        "id": "A2yQWx2ax13P"
      },
      "execution_count": null,
      "outputs": []
    },
    {
      "cell_type": "code",
      "source": [
        "arr1"
      ],
      "metadata": {
        "colab": {
          "base_uri": "https://localhost:8080/"
        },
        "id": "soOv2KXuyBRM",
        "outputId": "3a7dc37a-784b-49f9-edba-9a68af8eba6b"
      },
      "execution_count": null,
      "outputs": [
        {
          "output_type": "execute_result",
          "data": {
            "text/plain": [
              "array([ 5, 10, 15, 20, 25, 30])"
            ]
          },
          "metadata": {},
          "execution_count": 29
        }
      ]
    },
    {
      "cell_type": "code",
      "source": [
        "arr2"
      ],
      "metadata": {
        "colab": {
          "base_uri": "https://localhost:8080/"
        },
        "id": "QFWp_fScyCNx",
        "outputId": "54121ef7-7024-49fe-e61a-f052233e6eb2"
      },
      "execution_count": null,
      "outputs": [
        {
          "output_type": "execute_result",
          "data": {
            "text/plain": [
              "array([1, 2, 3, 4, 5, 6])"
            ]
          },
          "metadata": {},
          "execution_count": 30
        }
      ]
    },
    {
      "cell_type": "code",
      "source": [
        "arr1[0]+arr2[0]"
      ],
      "metadata": {
        "colab": {
          "base_uri": "https://localhost:8080/"
        },
        "id": "5tT1YM0syDUw",
        "outputId": "3faebd15-7677-4d30-e378-9d3f16765a69"
      },
      "execution_count": null,
      "outputs": [
        {
          "output_type": "execute_result",
          "data": {
            "text/plain": [
              "6"
            ]
          },
          "metadata": {},
          "execution_count": 32
        }
      ]
    },
    {
      "cell_type": "code",
      "source": [
        "arr1[0]-arr2[0]"
      ],
      "metadata": {
        "colab": {
          "base_uri": "https://localhost:8080/"
        },
        "id": "BOuP-9A_yKum",
        "outputId": "f81c2b4f-0c53-4e25-cbee-23ac6ec9c8e8"
      },
      "execution_count": null,
      "outputs": [
        {
          "output_type": "execute_result",
          "data": {
            "text/plain": [
              "4"
            ]
          },
          "metadata": {},
          "execution_count": 33
        }
      ]
    },
    {
      "cell_type": "code",
      "source": [
        "arr1[0]*arr2[0]"
      ],
      "metadata": {
        "colab": {
          "base_uri": "https://localhost:8080/"
        },
        "id": "lUHL6LF6yR1T",
        "outputId": "264595ea-cd80-4476-a6f4-91f043e046e3"
      },
      "execution_count": null,
      "outputs": [
        {
          "output_type": "execute_result",
          "data": {
            "text/plain": [
              "5"
            ]
          },
          "metadata": {},
          "execution_count": 34
        }
      ]
    },
    {
      "cell_type": "code",
      "source": [
        "arr1[0]/arr2[0]"
      ],
      "metadata": {
        "colab": {
          "base_uri": "https://localhost:8080/"
        },
        "id": "6I16QOAvyT3M",
        "outputId": "698dc6ca-e180-40bc-9b60-cc44d5b2baf6"
      },
      "execution_count": null,
      "outputs": [
        {
          "output_type": "execute_result",
          "data": {
            "text/plain": [
              "5.0"
            ]
          },
          "metadata": {},
          "execution_count": 35
        }
      ]
    },
    {
      "cell_type": "code",
      "source": [
        "# 6\n",
        "arr=np.random.randint(0,100,10)\n",
        "arr"
      ],
      "metadata": {
        "colab": {
          "base_uri": "https://localhost:8080/"
        },
        "id": "AbgV5EwayVrc",
        "outputId": "eb77d825-24b9-42f9-d4d3-6db9406e03eb"
      },
      "execution_count": null,
      "outputs": [
        {
          "output_type": "execute_result",
          "data": {
            "text/plain": [
              "array([92, 89, 12, 42, 55, 24, 71, 10,  0, 35])"
            ]
          },
          "metadata": {},
          "execution_count": 36
        }
      ]
    },
    {
      "cell_type": "code",
      "source": [
        "arr.sum()"
      ],
      "metadata": {
        "colab": {
          "base_uri": "https://localhost:8080/"
        },
        "id": "Cggw_fwXyeDf",
        "outputId": "6a4d1791-01a3-4996-ec0a-d2bdac129624"
      },
      "execution_count": null,
      "outputs": [
        {
          "output_type": "execute_result",
          "data": {
            "text/plain": [
              "430"
            ]
          },
          "metadata": {},
          "execution_count": 37
        }
      ]
    },
    {
      "cell_type": "code",
      "source": [
        "arr.mean()"
      ],
      "metadata": {
        "colab": {
          "base_uri": "https://localhost:8080/"
        },
        "id": "XOiOGxvXyf34",
        "outputId": "36737940-b5fe-4f81-97e1-2a96a1943f4a"
      },
      "execution_count": null,
      "outputs": [
        {
          "output_type": "execute_result",
          "data": {
            "text/plain": [
              "43.0"
            ]
          },
          "metadata": {},
          "execution_count": 38
        }
      ]
    },
    {
      "cell_type": "code",
      "source": [
        "arr.max()"
      ],
      "metadata": {
        "colab": {
          "base_uri": "https://localhost:8080/"
        },
        "id": "ZIHkrMR7yhYB",
        "outputId": "d9e5a12e-3c9e-4188-fb31-c8a0f53f2d5f"
      },
      "execution_count": null,
      "outputs": [
        {
          "output_type": "execute_result",
          "data": {
            "text/plain": [
              "92"
            ]
          },
          "metadata": {},
          "execution_count": 39
        }
      ]
    },
    {
      "cell_type": "code",
      "source": [
        "arr.var()"
      ],
      "metadata": {
        "colab": {
          "base_uri": "https://localhost:8080/"
        },
        "id": "2qYEq98vyjo4",
        "outputId": "44c45d96-f888-4751-b896-c1912bc23536"
      },
      "execution_count": null,
      "outputs": [
        {
          "output_type": "execute_result",
          "data": {
            "text/plain": [
              "977.0"
            ]
          },
          "metadata": {},
          "execution_count": 40
        }
      ]
    },
    {
      "cell_type": "code",
      "source": [
        "arr.std()"
      ],
      "metadata": {
        "colab": {
          "base_uri": "https://localhost:8080/"
        },
        "id": "igd2TKRwyltA",
        "outputId": "4a5e5f50-e74f-4784-dae1-690b6979f5ea"
      },
      "execution_count": null,
      "outputs": [
        {
          "output_type": "execute_result",
          "data": {
            "text/plain": [
              "31.25699921617557"
            ]
          },
          "metadata": {},
          "execution_count": 41
        }
      ]
    },
    {
      "cell_type": "code",
      "source": [
        "# 7\n",
        "arr1=np.arange(0,20)\n",
        "arr2=np.arange(500,531)"
      ],
      "metadata": {
        "id": "iz83hm07ynLf"
      },
      "execution_count": null,
      "outputs": []
    },
    {
      "cell_type": "code",
      "source": [
        "arr1\n"
      ],
      "metadata": {
        "colab": {
          "base_uri": "https://localhost:8080/"
        },
        "id": "nLzvoXAoy1JO",
        "outputId": "57443497-3a1d-45ef-811a-3834de849dd6"
      },
      "execution_count": null,
      "outputs": [
        {
          "output_type": "execute_result",
          "data": {
            "text/plain": [
              "array([ 0,  1,  2,  3,  4,  5,  6,  7,  8,  9, 10, 11, 12, 13, 14, 15, 16,\n",
              "       17, 18, 19])"
            ]
          },
          "metadata": {},
          "execution_count": 43
        }
      ]
    },
    {
      "cell_type": "code",
      "source": [
        "arr2"
      ],
      "metadata": {
        "colab": {
          "base_uri": "https://localhost:8080/"
        },
        "id": "4MuQaupEy18x",
        "outputId": "81d4a964-3d7d-4d4a-be6f-c8aea537a95f"
      },
      "execution_count": null,
      "outputs": [
        {
          "output_type": "execute_result",
          "data": {
            "text/plain": [
              "array([500, 501, 502, 503, 504, 505, 506, 507, 508, 509, 510, 511, 512,\n",
              "       513, 514, 515, 516, 517, 518, 519, 520, 521, 522, 523, 524, 525,\n",
              "       526, 527, 528, 529, 530])"
            ]
          },
          "metadata": {},
          "execution_count": 44
        }
      ]
    },
    {
      "cell_type": "code",
      "source": [
        "np.concatenate([arr1,arr2],axis=0)"
      ],
      "metadata": {
        "colab": {
          "base_uri": "https://localhost:8080/"
        },
        "id": "UMrQgwJGy3Us",
        "outputId": "f7337e1f-28e6-4fea-e436-05a067943c63"
      },
      "execution_count": null,
      "outputs": [
        {
          "output_type": "execute_result",
          "data": {
            "text/plain": [
              "array([  0,   1,   2,   3,   4,   5,   6,   7,   8,   9,  10,  11,  12,\n",
              "        13,  14,  15,  16,  17,  18,  19, 500, 501, 502, 503, 504, 505,\n",
              "       506, 507, 508, 509, 510, 511, 512, 513, 514, 515, 516, 517, 518,\n",
              "       519, 520, 521, 522, 523, 524, 525, 526, 527, 528, 529, 530])"
            ]
          },
          "metadata": {},
          "execution_count": 45
        }
      ]
    },
    {
      "cell_type": "code",
      "source": [
        "# 8\n",
        "arr1=np.arange(15,51)\n",
        "arr2=np.arange(10,101)"
      ],
      "metadata": {
        "id": "kCwEbhfwzJyz"
      },
      "execution_count": null,
      "outputs": []
    },
    {
      "cell_type": "code",
      "source": [
        "arr3=np.concatenate([arr1,arr2],axis=0)\n",
        "arr3"
      ],
      "metadata": {
        "colab": {
          "base_uri": "https://localhost:8080/"
        },
        "id": "juCh_HjrDMW8",
        "outputId": "5c4d4bc5-d720-48aa-fdc0-38299f43f9da"
      },
      "execution_count": null,
      "outputs": [
        {
          "output_type": "execute_result",
          "data": {
            "text/plain": [
              "array([ 15,  16,  17,  18,  19,  20,  21,  22,  23,  24,  25,  26,  27,\n",
              "        28,  29,  30,  31,  32,  33,  34,  35,  36,  37,  38,  39,  40,\n",
              "        41,  42,  43,  44,  45,  46,  47,  48,  49,  50,  10,  11,  12,\n",
              "        13,  14,  15,  16,  17,  18,  19,  20,  21,  22,  23,  24,  25,\n",
              "        26,  27,  28,  29,  30,  31,  32,  33,  34,  35,  36,  37,  38,\n",
              "        39,  40,  41,  42,  43,  44,  45,  46,  47,  48,  49,  50,  51,\n",
              "        52,  53,  54,  55,  56,  57,  58,  59,  60,  61,  62,  63,  64,\n",
              "        65,  66,  67,  68,  69,  70,  71,  72,  73,  74,  75,  76,  77,\n",
              "        78,  79,  80,  81,  82,  83,  84,  85,  86,  87,  88,  89,  90,\n",
              "        91,  92,  93,  94,  95,  96,  97,  98,  99, 100])"
            ]
          },
          "metadata": {},
          "execution_count": 48
        }
      ]
    },
    {
      "cell_type": "code",
      "source": [
        "arr3[25:51]=888\n",
        "arr3"
      ],
      "metadata": {
        "colab": {
          "base_uri": "https://localhost:8080/"
        },
        "id": "myvIRAHQDaLm",
        "outputId": "b5316ebf-7995-411d-ee55-7fc85e908757"
      },
      "execution_count": null,
      "outputs": [
        {
          "output_type": "execute_result",
          "data": {
            "text/plain": [
              "array([ 15,  16,  17,  18,  19,  20,  21,  22,  23,  24,  25,  26,  27,\n",
              "        28,  29,  30,  31,  32,  33,  34,  35,  36,  37,  38,  39, 888,\n",
              "       888, 888, 888, 888, 888, 888, 888, 888, 888, 888, 888, 888, 888,\n",
              "       888, 888, 888, 888, 888, 888, 888, 888, 888, 888, 888, 888,  25,\n",
              "        26,  27,  28,  29,  30,  31,  32,  33,  34,  35,  36,  37,  38,\n",
              "        39,  40,  41,  42,  43,  44,  45,  46,  47,  48,  49,  50,  51,\n",
              "        52,  53,  54,  55,  56,  57,  58,  59,  60,  61,  62,  63,  64,\n",
              "        65,  66,  67,  68,  69,  70,  71,  72,  73,  74,  75,  76,  77,\n",
              "        78,  79,  80,  81,  82,  83,  84,  85,  86,  87,  88,  89,  90,\n",
              "        91,  92,  93,  94,  95,  96,  97,  98,  99, 100])"
            ]
          },
          "metadata": {},
          "execution_count": 50
        }
      ]
    },
    {
      "cell_type": "code",
      "source": [
        "# 9\n",
        "arr1=np.arange(0,40).reshape(8,5)\n",
        "arr2=np.arange(320,360).reshape(8,5)"
      ],
      "metadata": {
        "id": "DStgds9pDgn-"
      },
      "execution_count": null,
      "outputs": []
    },
    {
      "cell_type": "code",
      "source": [
        "np.concatenate([arr1,arr2],axis=0)"
      ],
      "metadata": {
        "colab": {
          "base_uri": "https://localhost:8080/"
        },
        "id": "nhP7NCYiD3sU",
        "outputId": "dd951220-f292-4b65-e0ac-00bb79f6cf7e"
      },
      "execution_count": null,
      "outputs": [
        {
          "output_type": "execute_result",
          "data": {
            "text/plain": [
              "array([[  0,   1,   2,   3,   4],\n",
              "       [  5,   6,   7,   8,   9],\n",
              "       [ 10,  11,  12,  13,  14],\n",
              "       [ 15,  16,  17,  18,  19],\n",
              "       [ 20,  21,  22,  23,  24],\n",
              "       [ 25,  26,  27,  28,  29],\n",
              "       [ 30,  31,  32,  33,  34],\n",
              "       [ 35,  36,  37,  38,  39],\n",
              "       [320, 321, 322, 323, 324],\n",
              "       [325, 326, 327, 328, 329],\n",
              "       [330, 331, 332, 333, 334],\n",
              "       [335, 336, 337, 338, 339],\n",
              "       [340, 341, 342, 343, 344],\n",
              "       [345, 346, 347, 348, 349],\n",
              "       [350, 351, 352, 353, 354],\n",
              "       [355, 356, 357, 358, 359]])"
            ]
          },
          "metadata": {},
          "execution_count": 54
        }
      ]
    },
    {
      "cell_type": "code",
      "source": [
        "np.concatenate([arr1,arr2],axis=1)"
      ],
      "metadata": {
        "colab": {
          "base_uri": "https://localhost:8080/"
        },
        "id": "HtC38N6tEs1F",
        "outputId": "41f0a4d4-d6fa-4227-a932-3f7b84174c60"
      },
      "execution_count": null,
      "outputs": [
        {
          "output_type": "execute_result",
          "data": {
            "text/plain": [
              "array([[  0,   1,   2,   3,   4, 320, 321, 322, 323, 324],\n",
              "       [  5,   6,   7,   8,   9, 325, 326, 327, 328, 329],\n",
              "       [ 10,  11,  12,  13,  14, 330, 331, 332, 333, 334],\n",
              "       [ 15,  16,  17,  18,  19, 335, 336, 337, 338, 339],\n",
              "       [ 20,  21,  22,  23,  24, 340, 341, 342, 343, 344],\n",
              "       [ 25,  26,  27,  28,  29, 345, 346, 347, 348, 349],\n",
              "       [ 30,  31,  32,  33,  34, 350, 351, 352, 353, 354],\n",
              "       [ 35,  36,  37,  38,  39, 355, 356, 357, 358, 359]])"
            ]
          },
          "metadata": {},
          "execution_count": 56
        }
      ]
    },
    {
      "cell_type": "code",
      "source": [
        "# 10\n",
        "arr1=np.arange(0,40).reshape(2,-1,5)\n",
        "arr2=np.arange(320,360).reshape(2,-1,5)"
      ],
      "metadata": {
        "id": "yy8-KkyyI2Jh"
      },
      "execution_count": null,
      "outputs": []
    },
    {
      "cell_type": "code",
      "source": [
        "arr1.ndim"
      ],
      "metadata": {
        "colab": {
          "base_uri": "https://localhost:8080/"
        },
        "id": "af5pJr6KJcq2",
        "outputId": "33d0a642-56d3-42d4-eb46-3259ca99afaa"
      },
      "execution_count": null,
      "outputs": [
        {
          "output_type": "execute_result",
          "data": {
            "text/plain": [
              "3"
            ]
          },
          "metadata": {},
          "execution_count": 64
        }
      ]
    },
    {
      "cell_type": "code",
      "source": [
        "np.concatenate([arr1,arr2],axis=2)"
      ],
      "metadata": {
        "colab": {
          "base_uri": "https://localhost:8080/"
        },
        "id": "AApj1G2yE25O",
        "outputId": "0faa853b-7790-4b44-c625-6791918061b9"
      },
      "execution_count": null,
      "outputs": [
        {
          "output_type": "execute_result",
          "data": {
            "text/plain": [
              "array([[[  0,   1,   2,   3,   4, 320, 321, 322, 323, 324],\n",
              "        [  5,   6,   7,   8,   9, 325, 326, 327, 328, 329],\n",
              "        [ 10,  11,  12,  13,  14, 330, 331, 332, 333, 334],\n",
              "        [ 15,  16,  17,  18,  19, 335, 336, 337, 338, 339]],\n",
              "\n",
              "       [[ 20,  21,  22,  23,  24, 340, 341, 342, 343, 344],\n",
              "        [ 25,  26,  27,  28,  29, 345, 346, 347, 348, 349],\n",
              "        [ 30,  31,  32,  33,  34, 350, 351, 352, 353, 354],\n",
              "        [ 35,  36,  37,  38,  39, 355, 356, 357, 358, 359]]])"
            ]
          },
          "metadata": {},
          "execution_count": 63
        }
      ]
    },
    {
      "cell_type": "code",
      "source": [
        "np.stack([arr1,arr2],axis=2)"
      ],
      "metadata": {
        "colab": {
          "base_uri": "https://localhost:8080/"
        },
        "id": "2xrEH1KVH0DU",
        "outputId": "903c7dd7-d4d6-479a-a7fc-a689e53f39b5"
      },
      "execution_count": null,
      "outputs": [
        {
          "output_type": "execute_result",
          "data": {
            "text/plain": [
              "array([[[[  0,   1,   2,   3,   4],\n",
              "         [320, 321, 322, 323, 324]],\n",
              "\n",
              "        [[  5,   6,   7,   8,   9],\n",
              "         [325, 326, 327, 328, 329]],\n",
              "\n",
              "        [[ 10,  11,  12,  13,  14],\n",
              "         [330, 331, 332, 333, 334]],\n",
              "\n",
              "        [[ 15,  16,  17,  18,  19],\n",
              "         [335, 336, 337, 338, 339]]],\n",
              "\n",
              "\n",
              "       [[[ 20,  21,  22,  23,  24],\n",
              "         [340, 341, 342, 343, 344]],\n",
              "\n",
              "        [[ 25,  26,  27,  28,  29],\n",
              "         [345, 346, 347, 348, 349]],\n",
              "\n",
              "        [[ 30,  31,  32,  33,  34],\n",
              "         [350, 351, 352, 353, 354]],\n",
              "\n",
              "        [[ 35,  36,  37,  38,  39],\n",
              "         [355, 356, 357, 358, 359]]]])"
            ]
          },
          "metadata": {},
          "execution_count": 65
        }
      ]
    },
    {
      "cell_type": "code",
      "source": [
        "# 11\n",
        "arr=np.array([1, 20, 25, 4, 4, 5, 4, 4, 1, 6, 9, 12, 1, 5])\n",
        "arr"
      ],
      "metadata": {
        "colab": {
          "base_uri": "https://localhost:8080/"
        },
        "id": "ldZOPymxJpP7",
        "outputId": "10e82343-b5f4-4e70-e5d9-5a856077728c"
      },
      "execution_count": null,
      "outputs": [
        {
          "output_type": "execute_result",
          "data": {
            "text/plain": [
              "array([ 1, 20, 25,  4,  4,  5,  4,  4,  1,  6,  9, 12,  1,  5])"
            ]
          },
          "metadata": {},
          "execution_count": 80
        }
      ]
    },
    {
      "cell_type": "code",
      "source": [
        "np.where(arr==5)"
      ],
      "metadata": {
        "colab": {
          "base_uri": "https://localhost:8080/"
        },
        "id": "Uumuc_w3J8HA",
        "outputId": "a1e6e89a-e054-4a9a-d182-829a897109fa"
      },
      "execution_count": null,
      "outputs": [
        {
          "output_type": "execute_result",
          "data": {
            "text/plain": [
              "(array([ 5, 13]),)"
            ]
          },
          "metadata": {},
          "execution_count": 69
        }
      ]
    },
    {
      "cell_type": "code",
      "source": [
        "# 12\n",
        "np.where(arr%2 !=1)"
      ],
      "metadata": {
        "colab": {
          "base_uri": "https://localhost:8080/"
        },
        "id": "O5Eyb0dAKDP_",
        "outputId": "e4325c96-24a3-4a8a-fa02-62ac9e7d340c"
      },
      "execution_count": null,
      "outputs": [
        {
          "output_type": "execute_result",
          "data": {
            "text/plain": [
              "(array([ 1,  3,  4,  6,  7,  9, 11]),)"
            ]
          },
          "metadata": {},
          "execution_count": 83
        }
      ]
    },
    {
      "cell_type": "code",
      "source": [
        "# 13\n",
        "np.where(arr>4)"
      ],
      "metadata": {
        "colab": {
          "base_uri": "https://localhost:8080/"
        },
        "id": "CZFMlTCeKKwy",
        "outputId": "3182c200-2593-4882-ee67-b135266e2450"
      },
      "execution_count": null,
      "outputs": [
        {
          "output_type": "execute_result",
          "data": {
            "text/plain": [
              "(array([ 1,  2,  5,  9, 10, 11, 13]),)"
            ]
          },
          "metadata": {},
          "execution_count": 74
        }
      ]
    },
    {
      "cell_type": "code",
      "source": [
        "# 14\n",
        "np.where(arr%5 !=1)"
      ],
      "metadata": {
        "colab": {
          "base_uri": "https://localhost:8080/"
        },
        "id": "XzHQ-es2KdBe",
        "outputId": "b61c0f4a-3795-40a3-94eb-0df5dd658c71"
      },
      "execution_count": null,
      "outputs": [
        {
          "output_type": "execute_result",
          "data": {
            "text/plain": [
              "(array([ 1,  2,  3,  4,  5,  6,  7, 10, 11, 13]),)"
            ]
          },
          "metadata": {},
          "execution_count": 84
        }
      ]
    },
    {
      "cell_type": "code",
      "source": [
        "# 15\n",
        "np.random.randint(85,100,1)"
      ],
      "metadata": {
        "colab": {
          "base_uri": "https://localhost:8080/"
        },
        "id": "9RWcM-MNKyWH",
        "outputId": "c043ce97-af1b-4205-886c-5e2722eb3e3a"
      },
      "execution_count": null,
      "outputs": [
        {
          "output_type": "execute_result",
          "data": {
            "text/plain": [
              "array([87])"
            ]
          },
          "metadata": {},
          "execution_count": 86
        }
      ]
    },
    {
      "cell_type": "code",
      "source": [
        "# 16\n",
        "np.random.randint(10,100,(3,3))"
      ],
      "metadata": {
        "colab": {
          "base_uri": "https://localhost:8080/"
        },
        "id": "Y6wNO7sfLXrX",
        "outputId": "d5ae1238-75ea-465b-ae6b-a34ca3cf4ceb"
      },
      "execution_count": null,
      "outputs": [
        {
          "output_type": "execute_result",
          "data": {
            "text/plain": [
              "array([[83, 71, 43],\n",
              "       [58, 28, 29],\n",
              "       [29, 65, 86]])"
            ]
          },
          "metadata": {},
          "execution_count": 87
        }
      ]
    },
    {
      "cell_type": "code",
      "source": [
        "# 17\n",
        "arr=np.arange(35,61)\n",
        "arr"
      ],
      "metadata": {
        "colab": {
          "base_uri": "https://localhost:8080/"
        },
        "id": "BrfbLRAKLlVu",
        "outputId": "31aa6c35-5375-43c8-e9c1-4b1cef68f353"
      },
      "execution_count": null,
      "outputs": [
        {
          "output_type": "execute_result",
          "data": {
            "text/plain": [
              "array([35, 36, 37, 38, 39, 40, 41, 42, 43, 44, 45, 46, 47, 48, 49, 50, 51,\n",
              "       52, 53, 54, 55, 56, 57, 58, 59, 60])"
            ]
          },
          "metadata": {},
          "execution_count": 88
        }
      ]
    },
    {
      "cell_type": "code",
      "source": [
        "np.random.choice(arr)"
      ],
      "metadata": {
        "colab": {
          "base_uri": "https://localhost:8080/"
        },
        "id": "7Ny5q_jKLq9Y",
        "outputId": "6ad9f588-0ec7-46fb-9456-eab2f01a0660"
      },
      "execution_count": null,
      "outputs": [
        {
          "output_type": "execute_result",
          "data": {
            "text/plain": [
              "57"
            ]
          },
          "metadata": {},
          "execution_count": 92
        }
      ]
    },
    {
      "cell_type": "code",
      "source": [
        "# 18\n",
        "arr=np.array([3, 8, 10, 53,3, 3, 8, 10, 53,3]).reshape(2,5)\n",
        "arr"
      ],
      "metadata": {
        "colab": {
          "base_uri": "https://localhost:8080/"
        },
        "id": "QljdPM36Lxlx",
        "outputId": "133078db-09a1-45a9-b173-32d17968376d"
      },
      "execution_count": null,
      "outputs": [
        {
          "output_type": "execute_result",
          "data": {
            "text/plain": [
              "array([[ 3,  8, 10, 53,  3],\n",
              "       [ 3,  8, 10, 53,  3]])"
            ]
          },
          "metadata": {},
          "execution_count": 100
        }
      ]
    },
    {
      "cell_type": "code",
      "source": [],
      "metadata": {
        "id": "KpLHNe94L__C"
      },
      "execution_count": null,
      "outputs": []
    }
  ]
}